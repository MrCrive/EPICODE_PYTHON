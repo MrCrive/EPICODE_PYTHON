{
 "cells": [
  {
   "cell_type": "code",
   "execution_count": 6,
   "id": "cf241833-4071-4302-b911-21292cf969e1",
   "metadata": {},
   "outputs": [
    {
     "name": "stdout",
     "output_type": "stream",
     "text": [
      "E\n",
      "p\n",
      "i\n",
      "c\n",
      "o\n",
      "d\n",
      "e\n"
     ]
    }
   ],
   "source": [
    "nome_scuola = \"Epicode\"\n",
    "i = 0\n",
    "while i < len(nome_scuola):\n",
    "    print(nome_scuola[i])\n",
    "    i += 1"
   ]
  },
  {
   "cell_type": "code",
   "execution_count": 2,
   "id": "fa616237-5d7d-4d2c-8692-f53052f22e71",
   "metadata": {},
   "outputs": [
    {
     "name": "stdout",
     "output_type": "stream",
     "text": [
      "0\n",
      "1\n",
      "2\n",
      "3\n",
      "4\n",
      "5\n",
      "6\n",
      "7\n",
      "8\n",
      "9\n",
      "10\n",
      "11\n",
      "12\n",
      "13\n",
      "14\n",
      "15\n",
      "16\n",
      "17\n",
      "18\n",
      "19\n",
      "20\n"
     ]
    }
   ],
   "source": [
    "num = 0\n",
    "while num <= 20:\n",
    "    print(num)\n",
    "    num += 1"
   ]
  },
  {
   "cell_type": "code",
   "execution_count": 19,
   "id": "ebdac4a7-e695-457f-8246-2c2e88828222",
   "metadata": {},
   "outputs": [
    {
     "name": "stdout",
     "output_type": "stream",
     "text": [
      "1\n",
      "2\n",
      "4\n",
      "8\n",
      "16\n",
      "32\n",
      "64\n",
      "128\n",
      "256\n",
      "512\n",
      "1024\n"
     ]
    }
   ],
   "source": [
    "log = 0\n",
    "while log <= 10:\n",
    "    pot2 = 2**log\n",
    "    print(pot2)\n",
    "    log += 1"
   ]
  },
  {
   "cell_type": "code",
   "execution_count": 17,
   "id": "1a278f6e-5f26-4938-8726-3869e7b04339",
   "metadata": {},
   "outputs": [
    {
     "name": "stdout",
     "output_type": "stream",
     "text": [
      "2 elevato alla 0 è uguale a 1\n",
      "2 elevato alla 1 è uguale a 2\n",
      "2 elevato alla 2 è uguale a 4\n",
      "2 elevato alla 3 è uguale a 8\n",
      "2 elevato alla 4 è uguale a 16\n",
      "2 elevato alla 5 è uguale a 32\n",
      "2 elevato alla 6 è uguale a 64\n",
      "2 elevato alla 7 è uguale a 128\n",
      "2 elevato alla 8 è uguale a 256\n",
      "2 elevato alla 9 è uguale a 512\n",
      "2 elevato alla 10 è uguale a 1024\n"
     ]
    }
   ],
   "source": [
    "base = 2\n",
    "potenza = 0\n",
    "\n",
    "while potenza <= 10:\n",
    "  risultato = base ** potenza\n",
    "  print(f\"{base} elevato alla {potenza} è uguale a {risultato}\")\n",
    "  potenza += 1"
   ]
  },
  {
   "cell_type": "code",
   "execution_count": 49,
   "id": "de2e8944-3466-4712-88e7-ae337c8f7404",
   "metadata": {},
   "outputs": [
    {
     "name": "stdin",
     "output_type": "stream",
     "text": [
      "Inserisci indice di elevamento a potenza: 25\n"
     ]
    },
    {
     "name": "stdout",
     "output_type": "stream",
     "text": [
      "1\n",
      "2\n",
      "4\n",
      "8\n",
      "16\n",
      "32\n",
      "64\n",
      "128\n",
      "256\n",
      "512\n",
      "1024\n",
      "2048\n",
      "4096\n",
      "8192\n",
      "16384\n",
      "32768\n",
      "65536\n",
      "131072\n",
      "262144\n",
      "524288\n",
      "1048576\n",
      "2097152\n",
      "4194304\n",
      "8388608\n",
      "16777216\n"
     ]
    }
   ],
   "source": [
    "log = 0\n",
    "n = input(\"Inserisci indice di elevamento a potenza:\")\n",
    "n = int(n)\n",
    "while log < n:\n",
    "    pot2 = 2**log\n",
    "    print(pot2)\n",
    "    log += 1"
   ]
  },
  {
   "cell_type": "code",
   "execution_count": 9,
   "id": "bfb50f52-fd14-4313-b55b-e23fc47220da",
   "metadata": {},
   "outputs": [
    {
     "name": "stdin",
     "output_type": "stream",
     "text": [
      "Inserisci indice di elevamento a potenza: 11\n"
     ]
    },
    {
     "name": "stdout",
     "output_type": "stream",
     "text": [
      "1\n",
      "2\n",
      "4\n",
      "8\n",
      "16\n",
      "32\n",
      "64\n",
      "128\n",
      "256\n",
      "512\n",
      "1024\n"
     ]
    }
   ],
   "source": [
    "log = 0\n",
    "n = input(\"Inserisci indice di elevamento a potenza:\")\n",
    "n = int(n)\n",
    "while log < n:\n",
    "    pot2 = 2**log\n",
    "    if pot2 <= 25000:\n",
    "        print(pot2)\n",
    "    log += 1\n",
    "   "
   ]
  },
  {
   "cell_type": "code",
   "execution_count": 21,
   "id": "6cb254d1-2000-4da6-884d-79ed818e53ce",
   "metadata": {},
   "outputs": [
    {
     "name": "stdout",
     "output_type": "stream",
     "text": [
      "Risultato: 1\n",
      "Risultato: 2\n",
      "Risultato: 4\n",
      "Risultato: 8\n",
      "Risultato: 16\n",
      "Risultato: 32\n",
      "Risultato: 64\n",
      "Risultato: 128\n",
      "Risultato: 256\n",
      "Risultato: 512\n",
      "Risultato: 1024\n",
      "Risultato: 2048\n",
      "Risultato: 4096\n",
      "Risultato: 8192\n",
      "Risultato: 16384\n"
     ]
    }
   ],
   "source": [
    "base = 2\n",
    "esponente = 0\n",
    "risultato = base ** esponente\n",
    "while risultato < 25000:\n",
    "    print(\"Risultato:\", risultato)\n",
    "    esponente += 1\n",
    "    risultato = base ** esponente\n",
    "    #quest'ultima riga è stata aggiunta per evitare un ciclo infinito"
   ]
  },
  {
   "cell_type": "code",
   "execution_count": 22,
   "id": "2eb408f1-774b-4618-b8f0-1f598c521537",
   "metadata": {},
   "outputs": [
    {
     "name": "stdin",
     "output_type": "stream",
     "text": [
      "Inserisci un numero intero a caso: 20\n"
     ]
    }
   ],
   "source": [
    "multiplo = input(\"Inserisci un numero intero a caso:\")\n",
    "multiplo = int(multiplo)\n",
    "index_1=2\n",
    "div = multiplo/index_1\n",
    "while div >= 1:\n",
    "    if div == int(div):\n",
    "        print(index_1)\n",
    "        index_1 += 0\n",
    "    else:\n",
    "        index_1 += 1"
   ]
  },
  {
   "cell_type": "code",
   "execution_count": 45,
   "id": "d1d5da7b-9111-491e-9ca7-d9a1c6114bfb",
   "metadata": {},
   "outputs": [
    {
     "name": "stdin",
     "output_type": "stream",
     "text": [
      "Inserisci un numero: 37\n"
     ]
    },
    {
     "name": "stdout",
     "output_type": "stream",
     "text": [
      "[]\n"
     ]
    }
   ],
   "source": [
    "#Inizializzazione\n",
    "numero = input(\"Inserisci un numero:\")\n",
    "numero = int (numero)\n",
    "divisore = 2\n",
    "fattori = []\n",
    "\n",
    "while divisore < numero:\n",
    "    risultato = numero / divisore\n",
    "    if numero % divisore == 0:\n",
    "        print(\"Risultato di\" ,numero, \"/\", divisore,\"è\", risultato)\n",
    "        fattori.append(divisore)\n",
    "    #aggiornamento\n",
    "    divisore += 1\n",
    "print(fattori)"
   ]
  },
  {
   "cell_type": "code",
   "execution_count": 55,
   "id": "775596b9-1045-4155-8131-49ae78cf516c",
   "metadata": {},
   "outputs": [
    {
     "name": "stdout",
     "output_type": "stream",
     "text": [
      "E\n",
      "p\n",
      "i\n",
      "c\n",
      "o\n",
      "d\n",
      "e\n"
     ]
    }
   ],
   "source": [
    "nome_scuola = \"Epicode\"\n",
    "for lettera in nome_scuola:\n",
    "    print(lettera)"
   ]
  },
  {
   "cell_type": "code",
   "execution_count": 63,
   "id": "cfc6d0eb-aee3-423c-8756-d90afbfcf2b1",
   "metadata": {},
   "outputs": [
    {
     "name": "stdin",
     "output_type": "stream",
     "text": [
      "inserire base 7\n",
      "inserire esponente 8\n"
     ]
    },
    {
     "name": "stdout",
     "output_type": "stream",
     "text": [
      "[7, 49, 343, 2401, 16807, 117649, 823543, 5764801]\n"
     ]
    }
   ],
   "source": [
    "base=int(input('inserire base'))\n",
    "esponente=int(input('inserire esponente'))\n",
    "i=1\n",
    "risultato=[]\n",
    "while i<=potenza:\n",
    "    risultato.append(base**i)\n",
    "    i+=1\n",
    "print(risultato)"
   ]
  },
  {
   "cell_type": "code",
   "execution_count": 15,
   "id": "5445f3fb-300f-48f2-af88-8bdeb3c2ccee",
   "metadata": {},
   "outputs": [
    {
     "name": "stdin",
     "output_type": "stream",
     "text": [
      "Inserisci N: 10\n",
      "Inserisci K: 5\n"
     ]
    },
    {
     "name": "stdout",
     "output_type": "stream",
     "text": [
      "Calcolo le prime 10 potenze di 5\n",
      "1\n",
      "5\n",
      "25\n",
      "125\n",
      "625\n",
      "3125\n",
      "15625\n",
      "78125\n",
      "390625\n",
      "1953125\n",
      "Risultati: [1, 5, 25, 125, 625, 3125, 15625, 78125, 390625, 1953125]\n"
     ]
    }
   ],
   "source": [
    "N = input(\"Inserisci N:\") # Le prime N potenze\n",
    "K = input(\"Inserisci K:\")\n",
    "N = int(N)\n",
    "K = int(K)\n",
    "esponente = 0\n",
    "risultati = []\n",
    "\n",
    "print(\"Calcolo le prime\", N, \"potenze di\", K)\n",
    "\n",
    "while esponente < 10: #condizione\n",
    "    risultato = K ** esponente\n",
    "    print(risultato)\n",
    "    risultati.append(risultato)\n",
    "    esponente += 1\n",
    "\n",
    "print(\"Risultati:\", risultati)"
   ]
  },
  {
   "cell_type": "code",
   "execution_count": 35,
   "id": "21a32177-5e61-4db6-9746-f05dd7100af3",
   "metadata": {},
   "outputs": [
    {
     "name": "stdin",
     "output_type": "stream",
     "text": [
      "Inserisci N: 4\n",
      "Inserisci K: 6\n"
     ]
    },
    {
     "name": "stdout",
     "output_type": "stream",
     "text": [
      "Risultati: [1, 6, 36, 216]\n"
     ]
    }
   ],
   "source": [
    "# init\n",
    "N = input(\"Inserisci N:\")\n",
    "N = int(N)\n",
    "lista_degli_esponenti = list( range(N) )\n",
    "K = input(\"Inserisci K:\")\n",
    "K = int(K)\n",
    "risultati = []\n",
    "\n",
    "for esponente in lista_degli_esponenti:\n",
    "    risultato = K ** esponente\n",
    "    risultati.append( risultato )\n",
    "\n",
    "print(\"Risultati:\", risultati)"
   ]
  },
  {
   "cell_type": "code",
   "execution_count": 45,
   "id": "1dbf1fad-f145-4672-b6c5-22393824dc00",
   "metadata": {},
   "outputs": [
    {
     "name": "stdout",
     "output_type": "stream",
     "text": [
      "[0, 1, 2, 3, 4]\n"
     ]
    }
   ],
   "source": [
    "effe = list(range(5))\n",
    "print(effe)"
   ]
  },
  {
   "cell_type": "code",
   "execution_count": 27,
   "id": "ca2cfb87-4a97-4087-b416-f54c126705f6",
   "metadata": {},
   "outputs": [
    {
     "data": {
      "text/plain": [
       "range(0, 5)"
      ]
     },
     "execution_count": 27,
     "metadata": {},
     "output_type": "execute_result"
    }
   ],
   "source": [
    "range(5)"
   ]
  },
  {
   "cell_type": "code",
   "execution_count": 33,
   "id": "c711d048-a54d-4f1f-9f3f-c205dfa3641d",
   "metadata": {},
   "outputs": [
    {
     "name": "stdout",
     "output_type": "stream",
     "text": [
      "70.0\n"
     ]
    }
   ],
   "source": [
    "guadagni = [100, 90, 70, 40, 50, 80, 90, 120, 80, 20, 50, 50]\n",
    "mesi = len(guadagni)\n",
    "#init\n",
    "somma = 0\n",
    "for guadagno in guadagni:\n",
    "    somma += guadagno\n",
    "risultato = somma/mesi\n",
    "print(risultato)"
   ]
  },
  {
   "cell_type": "code",
   "execution_count": 37,
   "id": "1fda85d4-9dad-498f-b1f6-f8723abbdbcf",
   "metadata": {},
   "outputs": [
    {
     "name": "stdout",
     "output_type": "stream",
     "text": [
      "93.33333333333333\n"
     ]
    }
   ],
   "source": [
    "guadagni = [100, 90, 70, 40, 50, 80, 90, 120, 80, 20, 50, 50]\n",
    "mesi = len(guadagni)\n",
    "#init\n",
    "somma = 0\n",
    "contatore = 0\n",
    "for guadagno in guadagni:\n",
    "    if guadagno >=80:\n",
    "        somma += guadagno\n",
    "        contatore += 1\n",
    "risultato = somma/contatore\n",
    "print(risultato)"
   ]
  },
  {
   "cell_type": "code",
   "execution_count": 63,
   "id": "08c8a528-250b-44ed-92fe-3b839fec4b02",
   "metadata": {},
   "outputs": [
    {
     "name": "stdout",
     "output_type": "stream",
     "text": [
      "Parola: Albergo ( 1 )\n",
      "Parola: Sedia ( 1 )\n",
      "Parola: Borgo ( 0 )\n",
      "Parola: Petalo ( 1 )\n",
      "Parola: Eremo ( 2 )\n",
      "Parola: Belvedere ( 4 )\n",
      "Parola: Semestre ( 3 )\n",
      "Parola: Esteta ( 2 )\n",
      "Parola: Sosta ( 0 )\n",
      "Parola: Orpello ( 1 )\n",
      "Parola: Abete ( 2 )\n",
      "Parola: Orologio ( 0 )\n",
      "Parola: Cesta ( 1 )\n",
      "Parola: Ermellino ( 2 )\n"
     ]
    }
   ],
   "source": [
    "parole = [\"Albergo\", \"Sedia\", \"Borgo\", \"Petalo\", \"Eremo\", \"Belvedere\",\n",
    "          \"Semestre\", \"Esteta\", \"Sosta\",\"Orpello\",\n",
    "          \"Abete\", \"Orologio\", \"Cesta\", \"Ermellino\"]\n",
    "for parola in parole:\n",
    "    contatore = 0\n",
    "    for lettera in parola:\n",
    "        if lettera == \"e\" or lettera == \"E\":\n",
    "            contatore += 1\n",
    "    print(\"Parola:\", parola,\"(\",contatore,\")\")\n"
   ]
  },
  {
   "cell_type": "code",
   "execution_count": 53,
   "id": "6023c463-c526-437f-83de-0585850149ac",
   "metadata": {},
   "outputs": [
    {
     "name": "stdout",
     "output_type": "stream",
     "text": [
      "2\n"
     ]
    }
   ],
   "source": [
    "parola = \"Eremo\"\n",
    "contatore = 0\n",
    "for lettera in parola:\n",
    "    if lettera == \"e\" or lettera == \"E\":\n",
    "        contatore += 1\n",
    "print(contatore)\n",
    "    "
   ]
  },
  {
   "cell_type": "markdown",
   "id": "e8a9e459-fec4-42d4-bbc2-d2c0fcf2a829",
   "metadata": {},
   "source": [
    "Esercizio Scrivere un programma che, data una lista di numeri, fornisca\n",
    "in output il minimo e il massimo (possiamo usare o meno le funzioni built-in min() e max())."
   ]
  },
  {
   "cell_type": "code",
   "execution_count": 81,
   "id": "f154a178-03b1-433c-b04d-979e32f6a348",
   "metadata": {},
   "outputs": [
    {
     "name": "stdout",
     "output_type": "stream",
     "text": [
      "[200, 103.5, 101]\n"
     ]
    }
   ],
   "source": [
    "numeri = [25, 50, 90, 90, 200, 32, 70, 95, 101, 103.5]\n",
    "\n",
    "tre_numeri_piu_grandi = []\n",
    "\n",
    "if len(numeri) <=3:\n",
    "    print(numeri)\n",
    "else:\n",
    "    massimo = max(numeri)\n",
    "    tre_numeri_piu_grandi.append(massimo)\n",
    "    numeri.remove(massimo)\n",
    "\n",
    "    massimo = max(numeri)\n",
    "    tre_numeri_piu_grandi.append(massimo)\n",
    "    numeri.remove(massimo)\n",
    "\n",
    "    massimo = max(numeri)\n",
    "    tre_numeri_piu_grandi.append(massimo)\n",
    "\n",
    "    print(tre_numeri_piu_grandi)"
   ]
  },
  {
   "cell_type": "code",
   "execution_count": 87,
   "id": "c3ae1dc8-ce20-4ccf-9c30-50ef1a75473e",
   "metadata": {},
   "outputs": [
    {
     "name": "stdout",
     "output_type": "stream",
     "text": [
      "*****\n",
      "**\n",
      "***\n",
      "****\n"
     ]
    }
   ],
   "source": [
    "numeri = [5, 2, 3, 4]\n",
    "for numero in numeri:\n",
    "    graph = \"*\" * numero\n",
    "    print(graph)"
   ]
  },
  {
   "cell_type": "code",
   "execution_count": 97,
   "id": "b8eed9cc-53aa-4c9f-90ca-76db4ff1977e",
   "metadata": {},
   "outputs": [
    {
     "name": "stdout",
     "output_type": "stream",
     "text": [
      "ABCDEF95G01A123B -cognome: ABC , nome: DEF\n",
      "STUVWX95Z04A654E -cognome: STU , nome: VWX\n",
      "DEFGHI95J06A987G -cognome: DEF , nome: GHI\n",
      "['ABCDEF95G01A123B', 'STUVWX95Z04A654E', 'DEFGHI95J06A987G']\n"
     ]
    }
   ],
   "source": [
    "#dati originali\n",
    "lista_cf = [\"ABCDEF95G01A123B\", \"GHIJKL91M02A321C\",\n",
    "            \"MNOPQR89S03A456D\", \"STUVWX95Z04A654E\",\n",
    "            \"XYZABC01D05A789F\", \"DEFGHI95J06A987G\"]\n",
    "\n",
    "Lista_95 = []\n",
    "\n",
    "for cf in lista_cf:\n",
    "    if \"95\" in cf:\n",
    "        Lista_95.append(cf)\n",
    "        caratteri_cognome = cf[:3]\n",
    "        caratteri_nome = cf[3:6]\n",
    "        print(cf,\"-cognome:\",caratteri_cognome,\", nome:\", caratteri_nome)\n",
    "        \n",
    "print(Lista_95)"
   ]
  },
  {
   "cell_type": "code",
   "execution_count": 99,
   "id": "6d17b4da-7060-4c84-9eb3-a19c01f1461b",
   "metadata": {},
   "outputs": [
    {
     "name": "stdout",
     "output_type": "stream",
     "text": [
      "Alex\n",
      "Faith\n"
     ]
    }
   ],
   "source": [
    "studenti = [\"Alex\", \"Bob\", \"Cindy\", \"Dan\", \"Emma\", \"Faith\", \"Grace\", \"Henry\"]\n",
    "corsi = [\"Cybersecurity\", \"Data Analyst\", \"Backend\", \"Frontend\",\n",
    "         \"Data Analyst\", \"Backend\", \"Frontend\", \"Cybersecurity\"]\n",
    "edizioni = [1, 2, 3, 2, 2, 1, 3, 3]\n",
    "\n",
    "#init\n",
    "indici = range( len(studenti))\n",
    "indici =list(indici)\n",
    "\n",
    "for indice in indici:\n",
    "    studente = studenti[indice]\n",
    "    edizione = edizioni[indice]\n",
    "\n",
    "    if edizione == 1:\n",
    "        print(studente)"
   ]
  },
  {
   "cell_type": "code",
   "execution_count": 105,
   "id": "673ee84b-a025-4719-bf6d-d2ed63954a84",
   "metadata": {},
   "outputs": [
    {
     "name": "stdout",
     "output_type": "stream",
     "text": [
      "Help on built-in function find:\n",
      "\n",
      "find(...) method of builtins.str instance\n",
      "    S.find(sub[, start[, end]]) -> int\n",
      "    \n",
      "    Return the lowest index in S where substring sub is found,\n",
      "    such that sub is contained within S[start:end].  Optional\n",
      "    arguments start and end are interpreted as in slice notation.\n",
      "    \n",
      "    Return -1 on failure.\n",
      "\n"
     ]
    }
   ],
   "source": [
    "help(parola.find)"
   ]
  },
  {
   "cell_type": "code",
   "execution_count": 141,
   "id": "88603cdd-1b6f-4632-b3eb-741528027588",
   "metadata": {},
   "outputs": [
    {
     "name": "stdout",
     "output_type": "stream",
     "text": [
      "['100 $', '200 $', '500 $', '10 $', '50 $', '70 $']\n"
     ]
    }
   ],
   "source": [
    "prezzi = [\"100 €\", \"200 €\", \"500 €\", \"10 €\", \"50 €\", \"70 €\"]\n",
    "prezzi_dollaro= []\n",
    "for prezzo in prezzi:\n",
    "    if \"€\" in prezzo:\n",
    "        cifra = prezzo[:-2] + \" $\" #Ho aggiunto il dollaro con la concatenazione\n",
    "        prezzi_dollaro.append(cifra)\n",
    "print(prezzi_dollaro)"
   ]
  },
  {
   "cell_type": "code",
   "execution_count": null,
   "id": "fc7eb150-59bb-41e9-b48d-701a7d705413",
   "metadata": {},
   "outputs": [],
   "source": []
  }
 ],
 "metadata": {
  "kernelspec": {
   "display_name": "Python 3 (ipykernel)",
   "language": "python",
   "name": "python3"
  },
  "language_info": {
   "codemirror_mode": {
    "name": "ipython",
    "version": 3
   },
   "file_extension": ".py",
   "mimetype": "text/x-python",
   "name": "python",
   "nbconvert_exporter": "python",
   "pygments_lexer": "ipython3",
   "version": "3.11.7"
  }
 },
 "nbformat": 4,
 "nbformat_minor": 5
}
