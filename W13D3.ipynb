{
 "cells": [
  {
   "cell_type": "code",
   "execution_count": null,
   "id": "f2c109db-8dea-473c-917b-7262539f98c4",
   "metadata": {},
   "outputs": [],
   "source": [
    "#Come preparare un esame universitario:\n",
    "#1. Presentarsi alle lezioni con il materiale di studio\n",
    "#2. Annotarsi i concetti spiegati nei bloc notes e nelle slide\n",
    "#3. Intervenire a lezione\n",
    "#4. Studiare sulle slide e sugli appunti ogni giorno in ogni momento libero\n",
    "#5. Presentarsi in aula il giorno dell'esame\n",
    "#6. Rispondere alle domande dell'esame (senza copiare)\n",
    "#7. Consegnare l'esame e salutare il professore"
   ]
  },
  {
   "cell_type": "code",
   "execution_count": null,
   "id": "ed58265e-16ac-4e58-9b0a-e3f2cbe2a64e",
   "metadata": {},
   "outputs": [],
   "source": [
    "#Come andare all'Allianz Stadium a tifare Juventus:\n",
    "#1. Andare sul sito www.juventus.com\n",
    "#2. Andare a cliccare la sezione riguardante le partite in programma\n",
    "#3. Cliccare sulla sezione riguardante i biglietti\n",
    "#4. Compilare il form richiesto per l'acquisto del biglietto\n",
    "#5a. Scaricare il biglietto ricevuto via e-mail dalla posta elettronica gestita dalla Juventus, oppure\n",
    "#5b. Stampare il biglietto\n",
    "#6. Impostare la data sul cellulare del giorno della partita\n",
    "#7. Prepararsi per il viaggio\n",
    "#8. Partire in auto in direzione Allianz Stadium\n",
    "#9. Trovare parcheggio in una delle zone adibite ai tifosi\n",
    "#10. Uscire dall'auto con il biglietto a portata di mano\n",
    "#11. Passare per i tornelli e i controlli\n",
    "#12. Entrare allo stadio e sedersi al proprio posto."
   ]
  },
  {
   "cell_type": "code",
   "execution_count": null,
   "id": "3bdbfb26-4d86-4e44-97b6-1d9a4edc66c6",
   "metadata": {},
   "outputs": [],
   "source": [
    "studenti=25"
   ]
  },
  {
   "cell_type": "code",
   "execution_count": 1,
   "id": "d246704c-3de2-487a-8989-0eccd41162b0",
   "metadata": {},
   "outputs": [
    {
     "name": "stdout",
     "output_type": "stream",
     "text": [
      "25\n"
     ]
    }
   ],
   "source": [
    "studenti=25\n",
    "print(studenti)"
   ]
  },
  {
   "cell_type": "code",
   "execution_count": 3,
   "id": "b7b9ffa0-c83d-461d-81b6-c632fc29171c",
   "metadata": {},
   "outputs": [],
   "source": [
    "studenti=25\n",
    "addstud=3\n",
    "classe=studenti+addstud"
   ]
  },
  {
   "cell_type": "code",
   "execution_count": 5,
   "id": "4338beb2-c9cb-47aa-a8e2-b1998009b9de",
   "metadata": {},
   "outputs": [
    {
     "name": "stdout",
     "output_type": "stream",
     "text": [
      "28\n"
     ]
    }
   ],
   "source": [
    "print(classe)"
   ]
  },
  {
   "cell_type": "code",
   "execution_count": 7,
   "id": "0772287d-fecd-4f6e-a0d1-0e91fc563837",
   "metadata": {},
   "outputs": [
    {
     "name": "stdout",
     "output_type": "stream",
     "text": [
      "Epicode\n"
     ]
    }
   ],
   "source": [
    "scuola=\"Epicode\"\n",
    "print(scuola)"
   ]
  },
  {
   "cell_type": "code",
   "execution_count": 9,
   "id": "1c0c676d-b379-40d6-be1b-f02d80f23a13",
   "metadata": {},
   "outputs": [
    {
     "name": "stdout",
     "output_type": "stream",
     "text": [
      "12\n"
     ]
    }
   ],
   "source": [
    "x=2\n",
    "y=(x+2)*3\n",
    "print(y)"
   ]
  },
  {
   "cell_type": "code",
   "execution_count": 11,
   "id": "a808dc2a-956d-4ac3-b82d-ba5960553f52",
   "metadata": {},
   "outputs": [
    {
     "data": {
      "text/plain": [
       "12"
      ]
     },
     "execution_count": 11,
     "metadata": {},
     "output_type": "execute_result"
    }
   ],
   "source": [
    "x=2\n",
    "(x+2)*3"
   ]
  },
  {
   "cell_type": "code",
   "execution_count": 15,
   "id": "099068f1-6ca0-4cdd-a4c3-67d7dacecf80",
   "metadata": {},
   "outputs": [],
   "source": [
    "str1=\"Windows\"\n",
    "str2=\"Excel\"\n",
    "str3=\"Powerpoint\"\n",
    "str4=\"Word\""
   ]
  },
  {
   "cell_type": "code",
   "execution_count": 17,
   "id": "d4d713d3-e150-4212-b4c9-71c05cca54ab",
   "metadata": {},
   "outputs": [
    {
     "data": {
      "text/plain": [
       "7"
      ]
     },
     "execution_count": 17,
     "metadata": {},
     "output_type": "execute_result"
    }
   ],
   "source": [
    "len(str1)"
   ]
  },
  {
   "cell_type": "code",
   "execution_count": 19,
   "id": "1dd21efe-bd37-426a-bfbf-9ef28dfc6793",
   "metadata": {},
   "outputs": [
    {
     "data": {
      "text/plain": [
       "5"
      ]
     },
     "execution_count": 19,
     "metadata": {},
     "output_type": "execute_result"
    }
   ],
   "source": [
    "len(str2)"
   ]
  },
  {
   "cell_type": "code",
   "execution_count": 21,
   "id": "2ea1ca04-f345-4ccc-ba6e-c5abc324a455",
   "metadata": {},
   "outputs": [
    {
     "data": {
      "text/plain": [
       "10"
      ]
     },
     "execution_count": 21,
     "metadata": {},
     "output_type": "execute_result"
    }
   ],
   "source": [
    "len(str3)"
   ]
  },
  {
   "cell_type": "code",
   "execution_count": 23,
   "id": "89cd698a-2be4-4c1c-a85a-827c5f6cdd1c",
   "metadata": {},
   "outputs": [
    {
     "data": {
      "text/plain": [
       "4"
      ]
     },
     "execution_count": 23,
     "metadata": {},
     "output_type": "execute_result"
    }
   ],
   "source": [
    "len(str4)"
   ]
  },
  {
   "cell_type": "code",
   "execution_count": 25,
   "id": "ec6d5b4b-8a20-4331-add8-80940b2ee013",
   "metadata": {},
   "outputs": [
    {
     "name": "stdout",
     "output_type": "stream",
     "text": [
      "31536000\n"
     ]
    }
   ],
   "source": [
    "giornianno=365\n",
    "oregiorno=24\n",
    "minutiora=60\n",
    "secondiminuto=60\n",
    "anno365=giornianno*oregiorno*minutiora*secondiminuto\n",
    "print(anno365)"
   ]
  },
  {
   "cell_type": "code",
   "execution_count": 27,
   "id": "0f6510c5-0528-48e3-972c-f73760790ea9",
   "metadata": {},
   "outputs": [],
   "source": [
    "my_string=\"I am studying Python\""
   ]
  },
  {
   "cell_type": "code",
   "execution_count": 29,
   "id": "87f5c545-b9e2-4200-87f9-30e28615ee70",
   "metadata": {},
   "outputs": [
    {
     "data": {
      "text/plain": [
       "'I AM STUDYING PYTHON'"
      ]
     },
     "execution_count": 29,
     "metadata": {},
     "output_type": "execute_result"
    }
   ],
   "source": [
    "my_string.upper()"
   ]
  },
  {
   "cell_type": "code",
   "execution_count": 31,
   "id": "f6f0eafb-d380-475c-b834-8840cd57a59f",
   "metadata": {},
   "outputs": [
    {
     "data": {
      "text/plain": [
       "'i am studying python'"
      ]
     },
     "execution_count": 31,
     "metadata": {},
     "output_type": "execute_result"
    }
   ],
   "source": [
    "my_string.lower()"
   ]
  },
  {
   "cell_type": "code",
   "execution_count": 33,
   "id": "d9f828c9-7e48-4d23-b1ce-de05b06d0a0b",
   "metadata": {},
   "outputs": [
    {
     "data": {
      "text/plain": [
       "'I am studying a lot'"
      ]
     },
     "execution_count": 33,
     "metadata": {},
     "output_type": "execute_result"
    }
   ],
   "source": [
    "my_string.replace(\"Python\",\"a lot\")"
   ]
  },
  {
   "cell_type": "code",
   "execution_count": 37,
   "id": "ef748397-9b6d-45df-8017-379c8c69635d",
   "metadata": {},
   "outputs": [
    {
     "data": {
      "text/plain": [
       "'I am studying Python'"
      ]
     },
     "execution_count": 37,
     "metadata": {},
     "output_type": "execute_result"
    }
   ],
   "source": [
    "my_string.strip()"
   ]
  },
  {
   "cell_type": "code",
   "execution_count": 39,
   "id": "8951df52-32b7-4958-bbad-29bc62b237dd",
   "metadata": {},
   "outputs": [
    {
     "data": {
      "text/plain": [
       "['I', 'am', 'studying', 'Python']"
      ]
     },
     "execution_count": 39,
     "metadata": {},
     "output_type": "execute_result"
    }
   ],
   "source": [
    "my_string.split()"
   ]
  },
  {
   "cell_type": "code",
   "execution_count": null,
   "id": "ca8c0b4f-871e-4044-87a1-3e5589a3ad86",
   "metadata": {},
   "outputs": [],
   "source": []
  }
 ],
 "metadata": {
  "kernelspec": {
   "display_name": "Python 3 (ipykernel)",
   "language": "python",
   "name": "python3"
  },
  "language_info": {
   "codemirror_mode": {
    "name": "ipython",
    "version": 3
   },
   "file_extension": ".py",
   "mimetype": "text/x-python",
   "name": "python",
   "nbconvert_exporter": "python",
   "pygments_lexer": "ipython3",
   "version": "3.11.7"
  }
 },
 "nbformat": 4,
 "nbformat_minor": 5
}
