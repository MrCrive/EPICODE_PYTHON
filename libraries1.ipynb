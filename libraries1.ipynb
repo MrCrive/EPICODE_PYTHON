{
 "cells": [
  {
   "cell_type": "code",
   "execution_count": 2,
   "id": "482e5338-070f-4455-8fe6-c2e2adf17d56",
   "metadata": {},
   "outputs": [],
   "source": [
    "mat = [[0, 1, 2, 3, 4], [5, 6, 7, 8, 9], [10, 11, 12, 13, 14]]\n",
    "#Secondo me è un array monodimensionale indicizzato catalogabile come pandas.Series"
   ]
  },
  {
   "cell_type": "code",
   "execution_count": 9,
   "id": "461d9d0d-5d23-4b75-8b65-9c80d4720797",
   "metadata": {},
   "outputs": [
    {
     "name": "stdout",
     "output_type": "stream",
     "text": [
      "-0.9589242746631385\n",
      "0.004425697988050785\n",
      "2432902008176640000\n",
      "3.141592653589793\n"
     ]
    }
   ],
   "source": [
    "import math\n",
    "print(math.sin(5)) #seno di 5\n",
    "print(math.cos(11)) #coseno di 11\n",
    "print(math.factorial(20)) #fattoriale di 20\n",
    "print(math.pi) #pi greco"
   ]
  },
  {
   "cell_type": "code",
   "execution_count": 30,
   "id": "37fc726f-6739-4cc0-9063-bc7e55dcb0e2",
   "metadata": {},
   "outputs": [
    {
     "name": "stdout",
     "output_type": "stream",
     "text": [
      "Help on built-in function degrees in module math:\n",
      "\n",
      "degrees(x, /)\n",
      "    Convert angle x from radians to degrees.\n",
      "\n"
     ]
    }
   ],
   "source": [
    "help(math.degrees)"
   ]
  },
  {
   "cell_type": "code",
   "execution_count": 11,
   "id": "444f749f-7d5b-4644-a0ed-9783504a6071",
   "metadata": {},
   "outputs": [
    {
     "data": {
      "text/plain": [
       "180.0"
      ]
     },
     "execution_count": 11,
     "metadata": {},
     "output_type": "execute_result"
    }
   ],
   "source": [
    "math.degrees(math.pi) #Note: radians values are pi/180 * degree_values."
   ]
  },
  {
   "cell_type": "code",
   "execution_count": 2,
   "id": "2c402412-60a6-4400-974c-fc7381c90be2",
   "metadata": {},
   "outputs": [
    {
     "name": "stdout",
     "output_type": "stream",
     "text": [
      "8150\n",
      "1280\n"
     ]
    }
   ],
   "source": [
    "import numpy as np\n",
    "lst = [2000, 5500, 7200, 4320, 1280, 1900, 2500, 3900, 6410, 8150, 7100, 5350]\n",
    "lst = np.array(lst)\n",
    "print(lst.max())\n",
    "print(lst.min())\n"
   ]
  },
  {
   "cell_type": "code",
   "execution_count": 24,
   "id": "ea1b67fe-6c12-4da3-a5ab-84bd39688feb",
   "metadata": {},
   "outputs": [
    {
     "name": "stdout",
     "output_type": "stream",
     "text": [
      "5500\n",
      "7200\n",
      "6410\n",
      "8150\n",
      "7100\n",
      "5350\n"
     ]
    }
   ],
   "source": [
    "#Visualizzare i mesi in cui si sono venduti più di 4999 oggetti\n",
    "i = 0 #init\n",
    "while i < len(lst):\n",
    "    if lst[i] > 4999:\n",
    "        print(lst[i])\n",
    "    i += 1"
   ]
  },
  {
   "cell_type": "code",
   "execution_count": 22,
   "id": "b96491b5-bd99-4ee3-ae10-104e0f046b6f",
   "metadata": {},
   "outputs": [
    {
     "name": "stdout",
     "output_type": "stream",
     "text": [
      "6\n"
     ]
    }
   ],
   "source": [
    "#Contare quanti mesi si sono venduti più di 4999 oggetti\n",
    "i = 0 #init\n",
    "contatore = 0\n",
    "while i < len(lst):\n",
    "    if lst[i] > 4999:\n",
    "        contatore += 1\n",
    "    else:\n",
    "        contatore += 0\n",
    "    i += 1\n",
    "print(contatore)"
   ]
  },
  {
   "cell_type": "code",
   "execution_count": 26,
   "id": "ba2f1807-e1b5-4fc1-8d93-bc6d4f381725",
   "metadata": {},
   "outputs": [
    {
     "name": "stdout",
     "output_type": "stream",
     "text": [
      "2000\n",
      "1280\n",
      "1900\n",
      "2500\n"
     ]
    }
   ],
   "source": [
    "#Visualizzare i mesi in cui si sono venduti meno di 3000 oggetti\n",
    "i = 0 #init\n",
    "while i < len(lst):\n",
    "    if lst[i] < 3000:\n",
    "        print(lst[i])\n",
    "    i += 1"
   ]
  },
  {
   "cell_type": "code",
   "execution_count": 28,
   "id": "b8e2f555-d9f4-4645-a62e-0ad608fb0b57",
   "metadata": {},
   "outputs": [
    {
     "data": {
      "text/plain": [
       "4634.166666666667"
      ]
     },
     "execution_count": 28,
     "metadata": {},
     "output_type": "execute_result"
    }
   ],
   "source": [
    "lst.mean()"
   ]
  },
  {
   "cell_type": "code",
   "execution_count": 13,
   "id": "2ed70382-c27f-4e8d-b763-10539b2fce83",
   "metadata": {
    "scrolled": true
   },
   "outputs": [
    {
     "name": "stdout",
     "output_type": "stream",
     "text": [
      "12000\n",
      "12000\n",
      "{1997: 12000, 1998: 15000, 1999: 20000, 2000: 23000, 2001: 25000, 2002: 17000, 2003: 14000, 2004: 21000}\n",
      "1997    12000\n",
      "1998    15000\n",
      "1999    20000\n",
      "2000    23000\n",
      "2001    25000\n",
      "2002    17000\n",
      "2003    14000\n",
      "2004    21000\n",
      "dtype: int64\n"
     ]
    }
   ],
   "source": [
    "import pandas as pd\n",
    "fatturati_dict = {1997: 12_000, 1998: 15_000, 1999: 20_000,\n",
    "                  2000: 23_000, 2001: 25_000,\n",
    "                  2002: 17_000, 2003: 14_000, 2004: 21_000}\n",
    "fatturati_series = pd.Series([12_000, 15_000, 20_000, 23_000, 25_000, 17_000, 14_000, 21_000],\n",
    "                             index=range(1997, 2005))\n",
    "print(fatturati_dict[1997])\n",
    "print(fatturati_series[1997])\n",
    "print(fatturati_dict)\n",
    "print(fatturati_series)"
   ]
  },
  {
   "cell_type": "markdown",
   "id": "6766248f-4511-4a8d-a7ad-91e72da51020",
   "metadata": {},
   "source": [
    "Come si vede dalla cella scritta sopra il dizionario riporta un'unica riga con le chiavi separate dai valori dai due punti, e le chiavi sono uniche! Nella serie, i dati sono riportati in un array monodimensionale dove gli indici possono avere un valore ripetuto.\n",
    "A differenza del dizionario, con le serie potremmo eseguire direttamente le operazioni di calcolo all'interno dei dati, poiché in un array possono essere rappresentati dati di un solo datatype."
   ]
  },
  {
   "cell_type": "code",
   "execution_count": 16,
   "id": "fb860810-15e8-4d1b-94f8-8394c685f60d",
   "metadata": {},
   "outputs": [],
   "source": [
    "import numpy as np\n",
    "stipendi = np.array( [100, 200, 300, 400, 500,  600, 700, 800, 900, 1000] )"
   ]
  },
  {
   "cell_type": "code",
   "execution_count": 18,
   "id": "73871c92-777c-4627-a634-d3e2c98e8d52",
   "metadata": {},
   "outputs": [
    {
     "name": "stdout",
     "output_type": "stream",
     "text": [
      "200\n",
      "400\n",
      "600\n",
      "800\n",
      "1000\n",
      "1200\n",
      "1400\n",
      "1600\n",
      "1800\n",
      "2000\n"
     ]
    }
   ],
   "source": [
    "for stipendio in stipendi:\n",
    "    print(stipendio * 2)"
   ]
  },
  {
   "cell_type": "code",
   "execution_count": 20,
   "id": "fd860bbb-3a0d-43d4-ae20-5bfc56c540ed",
   "metadata": {},
   "outputs": [
    {
     "data": {
      "text/plain": [
       "array([ 200,  400,  600,  800, 1000, 1200, 1400, 1600, 1800, 2000])"
      ]
     },
     "execution_count": 20,
     "metadata": {},
     "output_type": "execute_result"
    }
   ],
   "source": [
    "stipendi * 2"
   ]
  },
  {
   "cell_type": "code",
   "execution_count": null,
   "id": "a99d0077-5bee-49d4-93b8-0ffefacc3366",
   "metadata": {},
   "outputs": [],
   "source": []
  }
 ],
 "metadata": {
  "kernelspec": {
   "display_name": "Python 3 (ipykernel)",
   "language": "python",
   "name": "python3"
  },
  "language_info": {
   "codemirror_mode": {
    "name": "ipython",
    "version": 3
   },
   "file_extension": ".py",
   "mimetype": "text/x-python",
   "name": "python",
   "nbconvert_exporter": "python",
   "pygments_lexer": "ipython3",
   "version": "3.11.7"
  }
 },
 "nbformat": 4,
 "nbformat_minor": 5
}
