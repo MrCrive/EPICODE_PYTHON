{
 "cells": [
  {
   "cell_type": "code",
   "execution_count": 20,
   "id": "5e81dffe-db77-4b2d-8864-7cec790f0922",
   "metadata": {},
   "outputs": [],
   "source": [
    "nome_scuola = \"Epicode\""
   ]
  },
  {
   "cell_type": "code",
   "execution_count": 45,
   "id": "79f5dd13-eb59-4e25-a297-1da3f5351ea9",
   "metadata": {},
   "outputs": [
    {
     "name": "stdout",
     "output_type": "stream",
     "text": [
      "0\n",
      "1\n",
      "2\n",
      "3\n",
      "4\n",
      "5\n",
      "6\n",
      "7\n",
      "8\n",
      "9\n",
      "10\n",
      "11\n",
      "12\n",
      "13\n",
      "14\n",
      "15\n",
      "16\n",
      "17\n",
      "18\n",
      "19\n",
      "20\n"
     ]
    }
   ],
   "source": [
    "x=-1\n",
    "while x<20:\n",
    "    x+=1\n",
    "    print(x)"
   ]
  },
  {
   "cell_type": "code",
   "execution_count": 6,
   "id": "69a0b67a-74f3-464a-9727-eb89aba9d707",
   "metadata": {},
   "outputs": [
    {
     "name": "stdout",
     "output_type": "stream",
     "text": [
      "1\n",
      "2\n",
      "4\n",
      "8\n",
      "16\n",
      "32\n",
      "64\n",
      "128\n",
      "256\n",
      "512\n"
     ]
    }
   ],
   "source": [
    "x=2\n",
    "y=-1\n",
    "while y<9:\n",
    "    y+=1\n",
    "    potenza=x**y\n",
    "    print(potenza)"
   ]
  },
  {
   "cell_type": "code",
   "execution_count": 2,
   "id": "3ecb30c6-a3e7-427b-9316-907d490c0af6",
   "metadata": {},
   "outputs": [],
   "source": [
    "#x=2\n",
    "#y=-1\n",
    "#while potenza<25000:\n",
    "    #y+=1\n",
    "    #potenza=x**y\n",
    "    #print(potenza)"
   ]
  },
  {
   "cell_type": "markdown",
   "id": "f80c85be-d2f6-4325-8ab6-85e2497b3410",
   "metadata": {},
   "source": [
    "# Appunti\n",
    "Appunti *asterisco* **grassetto**"
   ]
  },
  {
   "cell_type": "code",
   "execution_count": 11,
   "id": "7bdd4175-1513-4c95-8c44-8fe67fb33403",
   "metadata": {},
   "outputs": [],
   "source": [
    "studenti = [\"Alex\", \"Bob\", \"Cindy\", \"Dan\", \"Emma\", \"Faith\", \"Grace\", \"Henry\"]\n",
    "corsi = [\"Cybersecurity\", \"Data Analyst\", \"Backend\", \"Frontend\", \"Data Analyst\", \"Backend\"]"
   ]
  },
  {
   "cell_type": "code",
   "execution_count": 13,
   "id": "604fb13c-46fa-4f6b-a9e5-74936bcd61a0",
   "metadata": {},
   "outputs": [
    {
     "data": {
      "text/plain": [
       "8"
      ]
     },
     "execution_count": 13,
     "metadata": {},
     "output_type": "execute_result"
    }
   ],
   "source": [
    "len(studenti)"
   ]
  },
  {
   "cell_type": "code",
   "execution_count": 15,
   "id": "33b8e430-7dd4-46fc-b507-91e42580807c",
   "metadata": {},
   "outputs": [
    {
     "data": {
      "text/plain": [
       "6"
      ]
     },
     "execution_count": 15,
     "metadata": {},
     "output_type": "execute_result"
    }
   ],
   "source": [
    "len(corsi)"
   ]
  },
  {
   "cell_type": "code",
   "execution_count": 19,
   "id": "03641eb4-26c3-4fcf-a980-d19dce1f713c",
   "metadata": {},
   "outputs": [],
   "source": [
    "corsi.append(\"Frontend\")"
   ]
  },
  {
   "cell_type": "code",
   "execution_count": 21,
   "id": "3c549ea9-7cf6-44a9-863d-63132890d681",
   "metadata": {},
   "outputs": [
    {
     "data": {
      "text/plain": [
       "7"
      ]
     },
     "execution_count": 21,
     "metadata": {},
     "output_type": "execute_result"
    }
   ],
   "source": [
    "len(corsi)"
   ]
  },
  {
   "cell_type": "code",
   "execution_count": 23,
   "id": "7a1da2eb-4f8d-42df-b759-d92b28bf1f4f",
   "metadata": {},
   "outputs": [],
   "source": [
    "corsi.append(\"Cybersecurity\")"
   ]
  },
  {
   "cell_type": "code",
   "execution_count": 25,
   "id": "6ba910f7-dc23-4640-951b-4d739bdc1391",
   "metadata": {},
   "outputs": [
    {
     "data": {
      "text/plain": [
       "8"
      ]
     },
     "execution_count": 25,
     "metadata": {},
     "output_type": "execute_result"
    }
   ],
   "source": [
    "len(corsi)"
   ]
  },
  {
   "cell_type": "code",
   "execution_count": 27,
   "id": "ba0542b8-ea12-455f-8c6a-c0f6c0cb98f8",
   "metadata": {},
   "outputs": [
    {
     "name": "stdout",
     "output_type": "stream",
     "text": [
      "['Cybersecurity', 'Data Analyst', 'Backend', 'Frontend', 'Data Analyst', 'Backend', 'Frontend', 'Cybersecurity']\n"
     ]
    }
   ],
   "source": [
    "print(corsi)"
   ]
  },
  {
   "cell_type": "code",
   "execution_count": 29,
   "id": "245f0530-be08-4881-9f97-69aa0b9a7c0f",
   "metadata": {},
   "outputs": [],
   "source": [
    "#Funzioni integrate -> Metodi"
   ]
  },
  {
   "cell_type": "code",
   "execution_count": 31,
   "id": "75347b59-4a7a-42e6-af04-be3b51de03b2",
   "metadata": {},
   "outputs": [
    {
     "data": {
      "text/plain": [
       "'aaa...bbb'"
      ]
     },
     "execution_count": 31,
     "metadata": {},
     "output_type": "execute_result"
    }
   ],
   "source": [
    "\"aaa\"+\"...\"+\"bbb\""
   ]
  },
  {
   "cell_type": "code",
   "execution_count": 33,
   "id": "a4abd3f0-a9de-4e42-94c0-d80394990ed3",
   "metadata": {},
   "outputs": [
    {
     "data": {
      "text/plain": [
       "'aaaaaa'"
      ]
     },
     "execution_count": 33,
     "metadata": {},
     "output_type": "execute_result"
    }
   ],
   "source": [
    "\"aaa\"*2"
   ]
  },
  {
   "cell_type": "code",
   "execution_count": 35,
   "id": "cdd7aa13-ac1a-4535-9855-839c5ced671c",
   "metadata": {},
   "outputs": [
    {
     "data": {
      "text/plain": [
       "'abcabc'"
      ]
     },
     "execution_count": 35,
     "metadata": {},
     "output_type": "execute_result"
    }
   ],
   "source": [
    "\"abc\"*2"
   ]
  },
  {
   "cell_type": "code",
   "execution_count": 39,
   "id": "c313416f-87fa-44e9-967f-e820f49bcc59",
   "metadata": {},
   "outputs": [
    {
     "name": "stdin",
     "output_type": "stream",
     "text": [
      "Inserisci una parola: computer\n"
     ]
    }
   ],
   "source": [
    "parola=input(\"Inserisci una parola:\")"
   ]
  },
  {
   "cell_type": "code",
   "execution_count": 41,
   "id": "80f2d04c-8343-473f-b26c-974a7e3e6ac8",
   "metadata": {},
   "outputs": [
    {
     "name": "stdout",
     "output_type": "stream",
     "text": [
      "computer\n"
     ]
    }
   ],
   "source": [
    "print(parola)"
   ]
  },
  {
   "cell_type": "code",
   "execution_count": 43,
   "id": "07d4e6c4-b900-4b6a-aaa9-677641629b8e",
   "metadata": {},
   "outputs": [
    {
     "data": {
      "text/plain": [
       "'c'"
      ]
     },
     "execution_count": 43,
     "metadata": {},
     "output_type": "execute_result"
    }
   ],
   "source": [
    "parola[0]"
   ]
  },
  {
   "cell_type": "code",
   "execution_count": 47,
   "id": "6815fdf6-8fc4-4212-8c27-c885dda7833b",
   "metadata": {},
   "outputs": [
    {
     "data": {
      "text/plain": [
       "'compu'"
      ]
     },
     "execution_count": 47,
     "metadata": {},
     "output_type": "execute_result"
    }
   ],
   "source": [
    "parola[0:5]"
   ]
  },
  {
   "cell_type": "code",
   "execution_count": 49,
   "id": "2c41c457-598e-4691-ae57-47644afcdb2a",
   "metadata": {},
   "outputs": [
    {
     "data": {
      "text/plain": [
       "'com'"
      ]
     },
     "execution_count": 49,
     "metadata": {},
     "output_type": "execute_result"
    }
   ],
   "source": [
    "parola[:3]"
   ]
  },
  {
   "cell_type": "code",
   "execution_count": 51,
   "id": "d49289b1-c40d-4454-9864-c74369d7cf8a",
   "metadata": {},
   "outputs": [
    {
     "data": {
      "text/plain": [
       "'ter'"
      ]
     },
     "execution_count": 51,
     "metadata": {},
     "output_type": "execute_result"
    }
   ],
   "source": [
    "parola[5:]"
   ]
  },
  {
   "cell_type": "code",
   "execution_count": 69,
   "id": "da485485-6c3a-4928-a350-13ce911b3e4b",
   "metadata": {},
   "outputs": [
    {
     "name": "stdin",
     "output_type": "stream",
     "text": [
      "Inserisci una parola e premi invio: Juventus\n"
     ]
    },
    {
     "name": "stdout",
     "output_type": "stream",
     "text": [
      "Le prime tre lettere sono:\n",
      "Juv\n",
      "Le ultime tre lettere sono:\n",
      "tus\n",
      "La parola abbreviata è:\n",
      "Juv...tus\n"
     ]
    }
   ],
   "source": [
    "parola = input(\"Inserisci una parola e premi invio:\")\n",
    "prime_lettere = parola[:3]\n",
    "ultime_lettere = parola[-3:]\n",
    "print(\"Le prime tre lettere sono:\")\n",
    "print(prime_lettere)\n",
    "print(\"Le ultime tre lettere sono:\")\n",
    "print(ultime_lettere)\n",
    "puntini=\"...\"\n",
    "parola_abbreviata=prime_lettere+puntini+ultime_lettere\n",
    "print(\"La parola abbreviata è:\")\n",
    "print(parola_abbreviata)"
   ]
  },
  {
   "cell_type": "code",
   "execution_count": 73,
   "id": "d7cc2af8-20b2-4a9d-a7f4-44f3ca4e168b",
   "metadata": {},
   "outputs": [],
   "source": [
    "proprietario_auto = {\"Ada\":\"Punto\",\"Ben\":\"Multipla\",\"Charlie\":\"Golf\",\"Debbie\":\"107\"}"
   ]
  },
  {
   "cell_type": "code",
   "execution_count": 75,
   "id": "224d0be4-5807-4eb9-bc37-3ae93b4eea83",
   "metadata": {},
   "outputs": [
    {
     "name": "stdout",
     "output_type": "stream",
     "text": [
      "{'Ada': 'Punto', 'Ben': 'Multipla', 'Charlie': 'Golf', 'Debbie': '107'}\n"
     ]
    }
   ],
   "source": [
    "print(proprietario_auto)"
   ]
  },
  {
   "cell_type": "code",
   "execution_count": 77,
   "id": "8aaebaae-791d-44d2-8e30-af6a13f2f952",
   "metadata": {},
   "outputs": [
    {
     "data": {
      "text/plain": [
       "'107'"
      ]
     },
     "execution_count": 77,
     "metadata": {},
     "output_type": "execute_result"
    }
   ],
   "source": [
    "proprietario_auto[\"Debbie\"]"
   ]
  },
  {
   "cell_type": "code",
   "execution_count": 79,
   "id": "411ad9c2-a6c8-4241-b9ab-39f8f5026ec7",
   "metadata": {},
   "outputs": [
    {
     "data": {
      "text/plain": [
       "'107'"
      ]
     },
     "execution_count": 79,
     "metadata": {},
     "output_type": "execute_result"
    }
   ],
   "source": [
    "proprietario_auto.get(\"Debbie\")"
   ]
  },
  {
   "cell_type": "code",
   "execution_count": 83,
   "id": "7cf93f6a-a768-4e6a-a77d-06ff6a1fae88",
   "metadata": {},
   "outputs": [
    {
     "name": "stdout",
     "output_type": "stream",
     "text": [
      "11\n",
      "74\n"
     ]
    }
   ],
   "source": [
    "numeri = [27,35,74,43,44,11]\n",
    "print(min(numeri))\n",
    "print(max(numeri))"
   ]
  },
  {
   "cell_type": "code",
   "execution_count": 85,
   "id": "55659534-4237-4386-9287-0c35bc2fe44b",
   "metadata": {},
   "outputs": [
    {
     "data": {
      "text/plain": [
       "'*******'"
      ]
     },
     "execution_count": 85,
     "metadata": {},
     "output_type": "execute_result"
    }
   ],
   "source": [
    "numero=7\n",
    "\"*\"*numero"
   ]
  },
  {
   "cell_type": "code",
   "execution_count": 87,
   "id": "e437b18a-d65b-4225-b18a-41fed9641caf",
   "metadata": {},
   "outputs": [
    {
     "data": {
      "text/plain": [
       "'100$'"
      ]
     },
     "execution_count": 87,
     "metadata": {},
     "output_type": "execute_result"
    }
   ],
   "source": [
    "prezzo = \"100€\"\n",
    "prezzo.replace(\"€\",\"$\")"
   ]
  },
  {
   "cell_type": "code",
   "execution_count": 89,
   "id": "aaa5f5d3-d226-4b25-9f3f-f6d69f6f3694",
   "metadata": {},
   "outputs": [],
   "source": [
    "studenti = [\"Alex\", \"Bob\", \"Cindy\", \"Dan\", \"Emma\", \"Faith\",\n",
    "            \"Grace\", \"Henry\", \"Isabelle\", \"John\"]"
   ]
  },
  {
   "cell_type": "code",
   "execution_count": 91,
   "id": "78613e60-5e45-4669-af03-f18fa137efd9",
   "metadata": {},
   "outputs": [
    {
     "data": {
      "text/plain": [
       "['Alex', 'Cindy', 'Emma']"
      ]
     },
     "execution_count": 91,
     "metadata": {},
     "output_type": "execute_result"
    }
   ],
   "source": [
    "studenti[0:6:2]"
   ]
  },
  {
   "cell_type": "code",
   "execution_count": 97,
   "id": "aba7d58f-7458-489b-9aa9-aeae8b349831",
   "metadata": {},
   "outputs": [],
   "source": [
    "Squadra1=studenti[::2]"
   ]
  },
  {
   "cell_type": "code",
   "execution_count": 99,
   "id": "12f3801e-aa87-4623-976f-ee77431c5856",
   "metadata": {},
   "outputs": [],
   "source": [
    "Squadra2=studenti[1::2]"
   ]
  },
  {
   "cell_type": "code",
   "execution_count": 105,
   "id": "de202341-11ce-43ee-ac22-8971b42f7c45",
   "metadata": {},
   "outputs": [
    {
     "name": "stdout",
     "output_type": "stream",
     "text": [
      "Nella Squadra1 ci sono: ['Alex', 'Cindy', 'Emma', 'Grace', 'Isabelle'] ;\n",
      " nella Squadra2 ci sono: ['Bob', 'Dan', 'Faith', 'Henry', 'John']\n"
     ]
    }
   ],
   "source": [
    "print(\"Nella Squadra1 ci sono:\",Squadra1,\n",
    "      \";\\n nella Squadra2 ci sono:\",Squadra2)\n",
    "#\\n serve per andare a capo"
   ]
  },
  {
   "cell_type": "code",
   "execution_count": null,
   "id": "1f920276-a18b-42d2-b9d4-b33bb2f270ca",
   "metadata": {},
   "outputs": [],
   "source": []
  }
 ],
 "metadata": {
  "kernelspec": {
   "display_name": "Python 3 (ipykernel)",
   "language": "python",
   "name": "python3"
  },
  "language_info": {
   "codemirror_mode": {
    "name": "ipython",
    "version": 3
   },
   "file_extension": ".py",
   "mimetype": "text/x-python",
   "name": "python",
   "nbconvert_exporter": "python",
   "pygments_lexer": "ipython3",
   "version": "3.11.7"
  }
 },
 "nbformat": 4,
 "nbformat_minor": 5
}
