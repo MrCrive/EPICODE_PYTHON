{
 "cells": [
  {
   "cell_type": "code",
   "execution_count": 2,
   "id": "d6cfa3a1-1d3b-4f4f-89f1-c46fbd43c42d",
   "metadata": {},
   "outputs": [
    {
     "name": "stdout",
     "output_type": "stream",
     "text": [
      "Defaulting to user installation because normal site-packages is not writeable\n",
      "Requirement already satisfied: PyMySQL in c:\\users\\hp\\appdata\\roaming\\python\\python311\\site-packages (1.1.1)\n",
      "Note: you may need to restart the kernel to use updated packages.\n"
     ]
    }
   ],
   "source": [
    "pip install PyMySQL"
   ]
  },
  {
   "cell_type": "code",
   "execution_count": 4,
   "id": "59dd0ac1-feef-4fc1-8180-fd2b389d2124",
   "metadata": {},
   "outputs": [
    {
     "name": "stdout",
     "output_type": "stream",
     "text": [
      "Defaulting to user installation because normal site-packages is not writeable\n",
      "Requirement already satisfied: SQLAlchemy in c:\\programdata\\anaconda3\\lib\\site-packages (2.0.25)\n",
      "Requirement already satisfied: typing-extensions>=4.6.0 in c:\\programdata\\anaconda3\\lib\\site-packages (from SQLAlchemy) (4.9.0)\n",
      "Requirement already satisfied: greenlet!=0.4.17 in c:\\programdata\\anaconda3\\lib\\site-packages (from SQLAlchemy) (3.0.1)\n",
      "Note: you may need to restart the kernel to use updated packages.\n"
     ]
    }
   ],
   "source": [
    "pip install SQLAlchemy"
   ]
  },
  {
   "cell_type": "code",
   "execution_count": 6,
   "id": "6334106b-a488-4819-8f87-1ca7c1217a00",
   "metadata": {},
   "outputs": [
    {
     "name": "stdout",
     "output_type": "stream",
     "text": [
      "Defaulting to user installation because normal site-packages is not writeable\n",
      "Requirement already satisfied: python_dotenv in c:\\programdata\\anaconda3\\lib\\site-packages (0.21.0)\n",
      "Note: you may need to restart the kernel to use updated packages.\n"
     ]
    }
   ],
   "source": [
    "pip install python_dotenv"
   ]
  },
  {
   "cell_type": "code",
   "execution_count": 13,
   "id": "6a84a3e1-0161-4b5f-a5fa-624d540a51d3",
   "metadata": {},
   "outputs": [],
   "source": [
    "import dotenv\n",
    "import os\n",
    "from sqlalchemy import create_engine\n",
    "import pandas as pd\n",
    "\n",
    "username = os.getenv(\"username\")\n",
    "password = os.getenv(\"password\")\n",
    "host = os.getenv(\"host\")\n",
    "dbname = os.getenv(\"dbname\")"
   ]
  },
  {
   "cell_type": "code",
   "execution_count": 15,
   "id": "f7e85f4f-d73e-477c-8a4a-cb6aa0207458",
   "metadata": {},
   "outputs": [],
   "source": [
    "dotenv.load_dotenv(override=True)\n",
    "conn_string = \"mysql+pymysql://\" + username + \":\" + password + \"@\" + host + \"/\" + dbname\n",
    "db_engine = create_engine(conn_string)"
   ]
  },
  {
   "cell_type": "code",
   "execution_count": 37,
   "id": "984566fb-7c27-4740-8d50-d45ec3cf12c1",
   "metadata": {},
   "outputs": [],
   "source": [
    "import pandas as pd\n",
    "path_or_buf = \"C:/Users/HP/Downloads/Mappa-dei-pub-circoli-locali-in-Italia.json\""
   ]
  },
  {
   "cell_type": "code",
   "execution_count": 43,
   "id": "a3edf5fe-55a2-4f92-ba06-becc4e4d5cb0",
   "metadata": {},
   "outputs": [],
   "source": [
    "pub_map = pd.read_json(path_or_buf, encoding=\"latin1\")"
   ]
  },
  {
   "cell_type": "code",
   "execution_count": 45,
   "id": "3439b39a-24a9-4cca-a6d7-10500e0cd50a",
   "metadata": {},
   "outputs": [
    {
     "data": {
      "text/html": [
       "<div>\n",
       "<style scoped>\n",
       "    .dataframe tbody tr th:only-of-type {\n",
       "        vertical-align: middle;\n",
       "    }\n",
       "\n",
       "    .dataframe tbody tr th {\n",
       "        vertical-align: top;\n",
       "    }\n",
       "\n",
       "    .dataframe thead th {\n",
       "        text-align: right;\n",
       "    }\n",
       "</style>\n",
       "<table border=\"1\" class=\"dataframe\">\n",
       "  <thead>\n",
       "    <tr style=\"text-align: right;\">\n",
       "      <th></th>\n",
       "      <th>ccomune</th>\n",
       "      <th>cprovincia</th>\n",
       "      <th>cregione</th>\n",
       "      <th>cnome</th>\n",
       "      <th>canno_inserimento</th>\n",
       "      <th>cdata_e_ora_inserimento</th>\n",
       "      <th>cidentificatore_in_openstreetmap</th>\n",
       "      <th>clongitudine</th>\n",
       "      <th>clatitudine</th>\n",
       "    </tr>\n",
       "  </thead>\n",
       "  <tbody>\n",
       "    <tr>\n",
       "      <th>0</th>\n",
       "      <td>ALTRO</td>\n",
       "      <td>ALTRO</td>\n",
       "      <td>ALTRO</td>\n",
       "      <td></td>\n",
       "      <td>2011</td>\n",
       "      <td>2011-06-25T23:17:43Z</td>\n",
       "      <td>1339088150</td>\n",
       "      <td>13.733257</td>\n",
       "      <td>45.575830</td>\n",
       "    </tr>\n",
       "    <tr>\n",
       "      <th>1</th>\n",
       "      <td>ALTRO</td>\n",
       "      <td>ALTRO</td>\n",
       "      <td>ALTRO</td>\n",
       "      <td>Lenny's Pub</td>\n",
       "      <td>2011</td>\n",
       "      <td>2011-07-29T17:22:56Z</td>\n",
       "      <td>1375887295</td>\n",
       "      <td>12.418681</td>\n",
       "      <td>46.747584</td>\n",
       "    </tr>\n",
       "    <tr>\n",
       "      <th>2</th>\n",
       "      <td>ALTRO</td>\n",
       "      <td>ALTRO</td>\n",
       "      <td>ALTRO</td>\n",
       "      <td>Murrayfield Pub</td>\n",
       "      <td>2015</td>\n",
       "      <td>2015-10-24T09:28:06Z</td>\n",
       "      <td>3323888102</td>\n",
       "      <td>9.029585</td>\n",
       "      <td>45.831340</td>\n",
       "    </tr>\n",
       "    <tr>\n",
       "      <th>3</th>\n",
       "      <td>ALTRO</td>\n",
       "      <td>ALTRO</td>\n",
       "      <td>ALTRO</td>\n",
       "      <td>Snop?e</td>\n",
       "      <td>2010</td>\n",
       "      <td>2010-09-22T08:32:52Z</td>\n",
       "      <td>921157802</td>\n",
       "      <td>13.640939</td>\n",
       "      <td>45.954607</td>\n",
       "    </tr>\n",
       "    <tr>\n",
       "      <th>4</th>\n",
       "      <td>Ala di Stura</td>\n",
       "      <td>TORINO</td>\n",
       "      <td>Piemonte</td>\n",
       "      <td></td>\n",
       "      <td>2012</td>\n",
       "      <td>2012-05-21T14:28:45Z</td>\n",
       "      <td>1760949034</td>\n",
       "      <td>7.307306</td>\n",
       "      <td>45.313150</td>\n",
       "    </tr>\n",
       "    <tr>\n",
       "      <th>...</th>\n",
       "      <td>...</td>\n",
       "      <td>...</td>\n",
       "      <td>...</td>\n",
       "      <td>...</td>\n",
       "      <td>...</td>\n",
       "      <td>...</td>\n",
       "      <td>...</td>\n",
       "      <td>...</td>\n",
       "      <td>...</td>\n",
       "    </tr>\n",
       "    <tr>\n",
       "      <th>2492</th>\n",
       "      <td>Barletta (BT)</td>\n",
       "      <td>BARLETTA ANDRIA TRANI</td>\n",
       "      <td>Puglia</td>\n",
       "      <td>Santa Croce</td>\n",
       "      <td>2010</td>\n",
       "      <td>2010-01-17T16:15:08Z</td>\n",
       "      <td>615632993</td>\n",
       "      <td>16.285782</td>\n",
       "      <td>41.320671</td>\n",
       "    </tr>\n",
       "    <tr>\n",
       "      <th>2493</th>\n",
       "      <td>Bisceglie (BT)</td>\n",
       "      <td>BARLETTA ANDRIA TRANI</td>\n",
       "      <td>Puglia</td>\n",
       "      <td>Auld Dublin</td>\n",
       "      <td>2014</td>\n",
       "      <td>2014-03-03T20:56:16Z</td>\n",
       "      <td>2613737619</td>\n",
       "      <td>16.497204</td>\n",
       "      <td>41.241814</td>\n",
       "    </tr>\n",
       "    <tr>\n",
       "      <th>2494</th>\n",
       "      <td>Bisceglie (BT)</td>\n",
       "      <td>BARLETTA ANDRIA TRANI</td>\n",
       "      <td>Puglia</td>\n",
       "      <td>Ferus</td>\n",
       "      <td>2014</td>\n",
       "      <td>2014-01-07T19:22:18Z</td>\n",
       "      <td>2613737620</td>\n",
       "      <td>16.506175</td>\n",
       "      <td>41.240957</td>\n",
       "    </tr>\n",
       "    <tr>\n",
       "      <th>2495</th>\n",
       "      <td>Trani (BT)</td>\n",
       "      <td>BARLETTA ANDRIA TRANI</td>\n",
       "      <td>Puglia</td>\n",
       "      <td>Re Artù</td>\n",
       "      <td>2009</td>\n",
       "      <td>2009-09-04T07:57:05Z</td>\n",
       "      <td>482836935</td>\n",
       "      <td>16.418124</td>\n",
       "      <td>41.281518</td>\n",
       "    </tr>\n",
       "    <tr>\n",
       "      <th>2496</th>\n",
       "      <td>Trani (BT)</td>\n",
       "      <td>BARLETTA ANDRIA TRANI</td>\n",
       "      <td>Puglia</td>\n",
       "      <td>Well's Fargo</td>\n",
       "      <td>2009</td>\n",
       "      <td>2009-08-10T12:44:03Z</td>\n",
       "      <td>387223648</td>\n",
       "      <td>16.436765</td>\n",
       "      <td>41.267264</td>\n",
       "    </tr>\n",
       "  </tbody>\n",
       "</table>\n",
       "<p>2497 rows × 9 columns</p>\n",
       "</div>"
      ],
      "text/plain": [
       "             ccomune             cprovincia  cregione            cnome  \\\n",
       "0              ALTRO                  ALTRO     ALTRO                    \n",
       "1              ALTRO                  ALTRO     ALTRO      Lenny's Pub   \n",
       "2              ALTRO                  ALTRO     ALTRO  Murrayfield Pub   \n",
       "3              ALTRO                  ALTRO     ALTRO           Snop?e   \n",
       "4       Ala di Stura                 TORINO  Piemonte                    \n",
       "...              ...                    ...       ...              ...   \n",
       "2492   Barletta (BT)  BARLETTA ANDRIA TRANI    Puglia      Santa Croce   \n",
       "2493  Bisceglie (BT)  BARLETTA ANDRIA TRANI    Puglia      Auld Dublin   \n",
       "2494  Bisceglie (BT)  BARLETTA ANDRIA TRANI    Puglia            Ferus   \n",
       "2495      Trani (BT)  BARLETTA ANDRIA TRANI    Puglia          Re Artù   \n",
       "2496      Trani (BT)  BARLETTA ANDRIA TRANI    Puglia     Well's Fargo   \n",
       "\n",
       "      canno_inserimento cdata_e_ora_inserimento  \\\n",
       "0                  2011    2011-06-25T23:17:43Z   \n",
       "1                  2011    2011-07-29T17:22:56Z   \n",
       "2                  2015    2015-10-24T09:28:06Z   \n",
       "3                  2010    2010-09-22T08:32:52Z   \n",
       "4                  2012    2012-05-21T14:28:45Z   \n",
       "...                 ...                     ...   \n",
       "2492               2010    2010-01-17T16:15:08Z   \n",
       "2493               2014    2014-03-03T20:56:16Z   \n",
       "2494               2014    2014-01-07T19:22:18Z   \n",
       "2495               2009    2009-09-04T07:57:05Z   \n",
       "2496               2009    2009-08-10T12:44:03Z   \n",
       "\n",
       "      cidentificatore_in_openstreetmap  clongitudine  clatitudine  \n",
       "0                           1339088150     13.733257    45.575830  \n",
       "1                           1375887295     12.418681    46.747584  \n",
       "2                           3323888102      9.029585    45.831340  \n",
       "3                            921157802     13.640939    45.954607  \n",
       "4                           1760949034      7.307306    45.313150  \n",
       "...                                ...           ...          ...  \n",
       "2492                         615632993     16.285782    41.320671  \n",
       "2493                        2613737619     16.497204    41.241814  \n",
       "2494                        2613737620     16.506175    41.240957  \n",
       "2495                         482836935     16.418124    41.281518  \n",
       "2496                         387223648     16.436765    41.267264  \n",
       "\n",
       "[2497 rows x 9 columns]"
      ]
     },
     "execution_count": 45,
     "metadata": {},
     "output_type": "execute_result"
    }
   ],
   "source": [
    "pub_map"
   ]
  },
  {
   "cell_type": "code",
   "execution_count": 57,
   "id": "d9cb12c2-5c38-4f9b-9569-15335af7a757",
   "metadata": {},
   "outputs": [
    {
     "name": "stdout",
     "output_type": "stream",
     "text": [
      "Nella tabella ci sono 22473 dati.\n"
     ]
    }
   ],
   "source": [
    "print(\"Nella tabella ci sono\",len(pub_map.columns)*len(pub_map.index),\"dati.\")"
   ]
  },
  {
   "cell_type": "code",
   "execution_count": 61,
   "id": "67197f1c-8e78-400d-8340-2ce0301adfe8",
   "metadata": {},
   "outputs": [
    {
     "name": "stdout",
     "output_type": "stream",
     "text": [
      "I metadati sono la seguente lista: Index(['ccomune', 'cprovincia', 'cregione', 'cnome', 'canno_inserimento',\n",
      "       'cdata_e_ora_inserimento', 'cidentificatore_in_openstreetmap',\n",
      "       'clongitudine', 'clatitudine'],\n",
      "      dtype='object') .\n"
     ]
    }
   ],
   "source": [
    "print(\"I metadati sono la seguente lista:\",pub_map.columns,\".\")"
   ]
  },
  {
   "cell_type": "code",
   "execution_count": 63,
   "id": "3cb303c0-4a6b-447a-9dc5-9f18b5cadd0b",
   "metadata": {},
   "outputs": [
    {
     "data": {
      "text/html": [
       "<div>\n",
       "<style scoped>\n",
       "    .dataframe tbody tr th:only-of-type {\n",
       "        vertical-align: middle;\n",
       "    }\n",
       "\n",
       "    .dataframe tbody tr th {\n",
       "        vertical-align: top;\n",
       "    }\n",
       "\n",
       "    .dataframe thead th {\n",
       "        text-align: right;\n",
       "    }\n",
       "</style>\n",
       "<table border=\"1\" class=\"dataframe\">\n",
       "  <thead>\n",
       "    <tr style=\"text-align: right;\">\n",
       "      <th></th>\n",
       "      <th>ccomune</th>\n",
       "      <th>cprovincia</th>\n",
       "      <th>cregione</th>\n",
       "      <th>cnome</th>\n",
       "      <th>canno_inserimento</th>\n",
       "      <th>cdata_e_ora_inserimento</th>\n",
       "      <th>cidentificatore_in_openstreetmap</th>\n",
       "      <th>clongitudine</th>\n",
       "      <th>clatitudine</th>\n",
       "    </tr>\n",
       "  </thead>\n",
       "  <tbody>\n",
       "    <tr>\n",
       "      <th>0</th>\n",
       "      <td>ALTRO</td>\n",
       "      <td>ALTRO</td>\n",
       "      <td>ALTRO</td>\n",
       "      <td></td>\n",
       "      <td>2011</td>\n",
       "      <td>2011-06-25T23:17:43Z</td>\n",
       "      <td>1339088150</td>\n",
       "      <td>13.733257</td>\n",
       "      <td>45.57583</td>\n",
       "    </tr>\n",
       "  </tbody>\n",
       "</table>\n",
       "</div>"
      ],
      "text/plain": [
       "  ccomune cprovincia cregione cnome  canno_inserimento  \\\n",
       "0   ALTRO      ALTRO    ALTRO                     2011   \n",
       "\n",
       "  cdata_e_ora_inserimento  cidentificatore_in_openstreetmap  clongitudine  \\\n",
       "0    2011-06-25T23:17:43Z                        1339088150     13.733257   \n",
       "\n",
       "   clatitudine  \n",
       "0     45.57583  "
      ]
     },
     "execution_count": 63,
     "metadata": {},
     "output_type": "execute_result"
    }
   ],
   "source": [
    "pub_map.head(1)"
   ]
  },
  {
   "cell_type": "code",
   "execution_count": 65,
   "id": "56ce64ac-af20-4ff9-835b-6815c7f7355a",
   "metadata": {},
   "outputs": [
    {
     "data": {
      "text/html": [
       "<div>\n",
       "<style scoped>\n",
       "    .dataframe tbody tr th:only-of-type {\n",
       "        vertical-align: middle;\n",
       "    }\n",
       "\n",
       "    .dataframe tbody tr th {\n",
       "        vertical-align: top;\n",
       "    }\n",
       "\n",
       "    .dataframe thead th {\n",
       "        text-align: right;\n",
       "    }\n",
       "</style>\n",
       "<table border=\"1\" class=\"dataframe\">\n",
       "  <thead>\n",
       "    <tr style=\"text-align: right;\">\n",
       "      <th></th>\n",
       "      <th>ccomune</th>\n",
       "      <th>cprovincia</th>\n",
       "      <th>cregione</th>\n",
       "      <th>cnome</th>\n",
       "      <th>canno_inserimento</th>\n",
       "      <th>cdata_e_ora_inserimento</th>\n",
       "      <th>cidentificatore_in_openstreetmap</th>\n",
       "      <th>clongitudine</th>\n",
       "      <th>clatitudine</th>\n",
       "    </tr>\n",
       "  </thead>\n",
       "  <tbody>\n",
       "    <tr>\n",
       "      <th>2496</th>\n",
       "      <td>Trani (BT)</td>\n",
       "      <td>BARLETTA ANDRIA TRANI</td>\n",
       "      <td>Puglia</td>\n",
       "      <td>Well's Fargo</td>\n",
       "      <td>2009</td>\n",
       "      <td>2009-08-10T12:44:03Z</td>\n",
       "      <td>387223648</td>\n",
       "      <td>16.436765</td>\n",
       "      <td>41.267264</td>\n",
       "    </tr>\n",
       "  </tbody>\n",
       "</table>\n",
       "</div>"
      ],
      "text/plain": [
       "         ccomune             cprovincia cregione         cnome  \\\n",
       "2496  Trani (BT)  BARLETTA ANDRIA TRANI   Puglia  Well's Fargo   \n",
       "\n",
       "      canno_inserimento cdata_e_ora_inserimento  \\\n",
       "2496               2009    2009-08-10T12:44:03Z   \n",
       "\n",
       "      cidentificatore_in_openstreetmap  clongitudine  clatitudine  \n",
       "2496                         387223648     16.436765    41.267264  "
      ]
     },
     "execution_count": 65,
     "metadata": {},
     "output_type": "execute_result"
    }
   ],
   "source": [
    "pub_map.tail(1)"
   ]
  },
  {
   "cell_type": "code",
   "execution_count": 67,
   "id": "ce165d1f-ddc4-4b39-b578-c5b86b3499c4",
   "metadata": {},
   "outputs": [
    {
     "data": {
      "text/html": [
       "<div>\n",
       "<style scoped>\n",
       "    .dataframe tbody tr th:only-of-type {\n",
       "        vertical-align: middle;\n",
       "    }\n",
       "\n",
       "    .dataframe tbody tr th {\n",
       "        vertical-align: top;\n",
       "    }\n",
       "\n",
       "    .dataframe thead th {\n",
       "        text-align: right;\n",
       "    }\n",
       "</style>\n",
       "<table border=\"1\" class=\"dataframe\">\n",
       "  <thead>\n",
       "    <tr style=\"text-align: right;\">\n",
       "      <th></th>\n",
       "      <th>ccomune</th>\n",
       "      <th>cprovincia</th>\n",
       "      <th>cregione</th>\n",
       "      <th>cnome</th>\n",
       "      <th>canno_inserimento</th>\n",
       "      <th>cdata_e_ora_inserimento</th>\n",
       "      <th>cidentificatore_in_openstreetmap</th>\n",
       "      <th>clongitudine</th>\n",
       "      <th>clatitudine</th>\n",
       "    </tr>\n",
       "  </thead>\n",
       "  <tbody>\n",
       "    <tr>\n",
       "      <th>1769</th>\n",
       "      <td>San Giustino</td>\n",
       "      <td>PERUGIA</td>\n",
       "      <td>Umbria</td>\n",
       "      <td>Red rose Valley</td>\n",
       "      <td>2016</td>\n",
       "      <td>2016-02-05T00:41:31Z</td>\n",
       "      <td>707352055</td>\n",
       "      <td>12.177946</td>\n",
       "      <td>43.547095</td>\n",
       "    </tr>\n",
       "  </tbody>\n",
       "</table>\n",
       "</div>"
      ],
      "text/plain": [
       "           ccomune cprovincia cregione            cnome  canno_inserimento  \\\n",
       "1769  San Giustino    PERUGIA   Umbria  Red rose Valley               2016   \n",
       "\n",
       "     cdata_e_ora_inserimento  cidentificatore_in_openstreetmap  clongitudine  \\\n",
       "1769    2016-02-05T00:41:31Z                         707352055     12.177946   \n",
       "\n",
       "      clatitudine  \n",
       "1769    43.547095  "
      ]
     },
     "execution_count": 67,
     "metadata": {},
     "output_type": "execute_result"
    }
   ],
   "source": [
    "pub_map.sample()"
   ]
  },
  {
   "cell_type": "code",
   "execution_count": 134,
   "id": "d4ad28c5-dc8f-4bac-8eb1-e9d46967e11c",
   "metadata": {},
   "outputs": [
    {
     "data": {
      "text/plain": [
       "canno_inserimento\n",
       "2007      1\n",
       "2008     48\n",
       "2009    109\n",
       "2010    186\n",
       "2011    244\n",
       "2012    447\n",
       "2013    405\n",
       "2014    464\n",
       "2015    527\n",
       "2016     66\n",
       "dtype: int64"
      ]
     },
     "execution_count": 134,
     "metadata": {},
     "output_type": "execute_result"
    }
   ],
   "source": [
    "pub_map.groupby(\"canno_inserimento\").size()"
   ]
  },
  {
   "cell_type": "code",
   "execution_count": 188,
   "id": "be6081c2-68e5-4001-ab53-2edef270c8d7",
   "metadata": {},
   "outputs": [
    {
     "data": {
      "text/plain": [
       "array([2007, 2008, 2009, 2010, 2011, 2012, 2013, 2014, 2015, 2016],\n",
       "      dtype=int64)"
      ]
     },
     "execution_count": 188,
     "metadata": {},
     "output_type": "execute_result"
    }
   ],
   "source": [
    "pub_year = pub_map[\"canno_inserimento\"].unique() #Mi stampa un array di anni\n",
    "pub_year.sort() #Ordinamento di array, non di valori\n",
    "pub_year #Il risultato ordinato lo si vede stampato sulla variabile"
   ]
  },
  {
   "cell_type": "code",
   "execution_count": 254,
   "id": "cbd3a6d7-b1df-496b-868d-c62d18bd0919",
   "metadata": {},
   "outputs": [
    {
     "data": {
      "text/plain": [
       "303"
      ]
     },
     "execution_count": 254,
     "metadata": {},
     "output_type": "execute_result"
    }
   ],
   "source": [
    "longitudine = (pub_map[\"clongitudine\"] >= 9) & (pub_map[\"clongitudine\"] <= 10)\n",
    "latitudine = (pub_map[\"clatitudine\"] >= 45) & (pub_map[\"clatitudine\"] <= 46)\n",
    "filtro_lat_lon = longitudine & latitudine\n",
    "var = pub_map.loc[filtro_lat_lon]\n",
    "var.shape[0]"
   ]
  },
  {
   "cell_type": "code",
   "execution_count": 298,
   "id": "54ca861e-06e9-4005-af43-f8ee01d24aa9",
   "metadata": {},
   "outputs": [
    {
     "data": {
      "text/plain": [
       "73"
      ]
     },
     "execution_count": 298,
     "metadata": {},
     "output_type": "execute_result"
    }
   ],
   "source": [
    "vicenza = pub_map[\"cprovincia\"] == \"VICENZA\"\n",
    "pub_vicenza = pub_map.loc[vicenza]\n",
    "pub_vicenza.shape[0] #0 tra parentesi quadre prende il numero di indice,\n",
    "                    #se fosse scritto 1 prenderebbe il numero di colonne"
   ]
  },
  {
   "cell_type": "code",
   "execution_count": 382,
   "id": "a2186faa-45e3-467e-bfac-06a9a145ff85",
   "metadata": {},
   "outputs": [
    {
     "data": {
      "text/plain": [
       "237"
      ]
     },
     "execution_count": 382,
     "metadata": {},
     "output_type": "execute_result"
    }
   ],
   "source": [
    "#Metodo 1\n",
    "lazio = pub_map.loc[pub_map[\"cregione\"] == \"Lazio\"]\n",
    "abruzzo = pub_map.loc[pub_map[\"cregione\"] == \"Abruzzo\"]\n",
    "laz_abr = lazio+abruzzo\n",
    "num_laz_abr = laz_abr.shape[0]\n",
    "num_laz_abr"
   ]
  },
  {
   "cell_type": "code",
   "execution_count": 384,
   "id": "5995e806-a3d9-4e91-86f9-f88a018eaba6",
   "metadata": {},
   "outputs": [
    {
     "data": {
      "text/plain": [
       "237"
      ]
     },
     "execution_count": 384,
     "metadata": {},
     "output_type": "execute_result"
    }
   ],
   "source": [
    "#Metodo 2\n",
    "num_lazio = lazio.shape[0]\n",
    "num_abruzzo = abruzzo.shape[0]\n",
    "num_laz_abr2 = num_lazio + num_abruzzo\n",
    "num_laz_abr2"
   ]
  },
  {
   "cell_type": "code",
   "execution_count": 141,
   "id": "74765ee0-39e2-4a6f-a6bc-642b26e7517d",
   "metadata": {},
   "outputs": [
    {
     "data": {
      "text/html": [
       "<div>\n",
       "<style scoped>\n",
       "    .dataframe tbody tr th:only-of-type {\n",
       "        vertical-align: middle;\n",
       "    }\n",
       "\n",
       "    .dataframe tbody tr th {\n",
       "        vertical-align: top;\n",
       "    }\n",
       "\n",
       "    .dataframe thead th {\n",
       "        text-align: right;\n",
       "    }\n",
       "</style>\n",
       "<table border=\"1\" class=\"dataframe\">\n",
       "  <thead>\n",
       "    <tr style=\"text-align: right;\">\n",
       "      <th></th>\n",
       "      <th>sepal_length</th>\n",
       "      <th>sepal_width</th>\n",
       "      <th>petal_length</th>\n",
       "      <th>petal_width</th>\n",
       "      <th>species</th>\n",
       "    </tr>\n",
       "  </thead>\n",
       "  <tbody>\n",
       "    <tr>\n",
       "      <th>0</th>\n",
       "      <td>5.1</td>\n",
       "      <td>3.5</td>\n",
       "      <td>1.4</td>\n",
       "      <td>0.2</td>\n",
       "      <td>Iris-setosa</td>\n",
       "    </tr>\n",
       "    <tr>\n",
       "      <th>1</th>\n",
       "      <td>4.9</td>\n",
       "      <td>3.0</td>\n",
       "      <td>1.4</td>\n",
       "      <td>0.2</td>\n",
       "      <td>Iris-setosa</td>\n",
       "    </tr>\n",
       "    <tr>\n",
       "      <th>2</th>\n",
       "      <td>4.7</td>\n",
       "      <td>3.2</td>\n",
       "      <td>1.3</td>\n",
       "      <td>0.2</td>\n",
       "      <td>Iris-setosa</td>\n",
       "    </tr>\n",
       "    <tr>\n",
       "      <th>3</th>\n",
       "      <td>4.6</td>\n",
       "      <td>3.1</td>\n",
       "      <td>1.5</td>\n",
       "      <td>0.2</td>\n",
       "      <td>Iris-setosa</td>\n",
       "    </tr>\n",
       "    <tr>\n",
       "      <th>4</th>\n",
       "      <td>5.0</td>\n",
       "      <td>3.6</td>\n",
       "      <td>1.4</td>\n",
       "      <td>0.2</td>\n",
       "      <td>Iris-setosa</td>\n",
       "    </tr>\n",
       "    <tr>\n",
       "      <th>...</th>\n",
       "      <td>...</td>\n",
       "      <td>...</td>\n",
       "      <td>...</td>\n",
       "      <td>...</td>\n",
       "      <td>...</td>\n",
       "    </tr>\n",
       "    <tr>\n",
       "      <th>145</th>\n",
       "      <td>6.7</td>\n",
       "      <td>3.0</td>\n",
       "      <td>5.2</td>\n",
       "      <td>2.3</td>\n",
       "      <td>Iris-virginica</td>\n",
       "    </tr>\n",
       "    <tr>\n",
       "      <th>146</th>\n",
       "      <td>6.3</td>\n",
       "      <td>2.5</td>\n",
       "      <td>5.0</td>\n",
       "      <td>1.9</td>\n",
       "      <td>Iris-virginica</td>\n",
       "    </tr>\n",
       "    <tr>\n",
       "      <th>147</th>\n",
       "      <td>6.5</td>\n",
       "      <td>3.0</td>\n",
       "      <td>5.2</td>\n",
       "      <td>2.0</td>\n",
       "      <td>Iris-virginica</td>\n",
       "    </tr>\n",
       "    <tr>\n",
       "      <th>148</th>\n",
       "      <td>6.2</td>\n",
       "      <td>3.4</td>\n",
       "      <td>5.4</td>\n",
       "      <td>2.3</td>\n",
       "      <td>Iris-virginica</td>\n",
       "    </tr>\n",
       "    <tr>\n",
       "      <th>149</th>\n",
       "      <td>5.9</td>\n",
       "      <td>3.0</td>\n",
       "      <td>5.1</td>\n",
       "      <td>1.8</td>\n",
       "      <td>Iris-virginica</td>\n",
       "    </tr>\n",
       "  </tbody>\n",
       "</table>\n",
       "<p>150 rows × 5 columns</p>\n",
       "</div>"
      ],
      "text/plain": [
       "     sepal_length  sepal_width  petal_length  petal_width         species\n",
       "0             5.1          3.5           1.4          0.2     Iris-setosa\n",
       "1             4.9          3.0           1.4          0.2     Iris-setosa\n",
       "2             4.7          3.2           1.3          0.2     Iris-setosa\n",
       "3             4.6          3.1           1.5          0.2     Iris-setosa\n",
       "4             5.0          3.6           1.4          0.2     Iris-setosa\n",
       "..            ...          ...           ...          ...             ...\n",
       "145           6.7          3.0           5.2          2.3  Iris-virginica\n",
       "146           6.3          2.5           5.0          1.9  Iris-virginica\n",
       "147           6.5          3.0           5.2          2.0  Iris-virginica\n",
       "148           6.2          3.4           5.4          2.3  Iris-virginica\n",
       "149           5.9          3.0           5.1          1.8  Iris-virginica\n",
       "\n",
       "[150 rows x 5 columns]"
      ]
     },
     "execution_count": 141,
     "metadata": {},
     "output_type": "execute_result"
    }
   ],
   "source": [
    "file_path = \"C:/Users/HP/Downloads/archive/beginner_datasets/iris.csv\"\n",
    "iris = pd.read_csv(file_path)\n",
    "iris"
   ]
  },
  {
   "cell_type": "code",
   "execution_count": 162,
   "id": "1c10f098-fde6-4b3d-bc88-a7fb5b082659",
   "metadata": {},
   "outputs": [
    {
     "data": {
      "text/plain": [
       "3.758666666666666"
      ]
     },
     "execution_count": 162,
     "metadata": {},
     "output_type": "execute_result"
    }
   ],
   "source": [
    "len_iris = iris[\"petal_length\"].mean()\n",
    "len_iris"
   ]
  },
  {
   "cell_type": "code",
   "execution_count": 164,
   "id": "a2af53dd-71c8-412a-af97-cf70b5d4daff",
   "metadata": {},
   "outputs": [
    {
     "data": {
      "text/plain": [
       "species\n",
       "Iris-setosa        1.464\n",
       "Iris-versicolor    4.260\n",
       "Iris-virginica     5.552\n",
       "Name: petal_length, dtype: float64"
      ]
     },
     "execution_count": 164,
     "metadata": {},
     "output_type": "execute_result"
    }
   ],
   "source": [
    "len_iris_species = iris.groupby(\"species\")[\"petal_length\"].mean()\n",
    "len_iris_species"
   ]
  },
  {
   "cell_type": "code",
   "execution_count": 172,
   "id": "a81329e9-db3b-45f0-b97b-0885c9443dc7",
   "metadata": {},
   "outputs": [
    {
     "data": {
      "text/plain": [
       "species\n",
       "Iris-setosa        1.464\n",
       "Iris-versicolor    4.260\n",
       "Iris-virginica     5.552\n",
       "Name: petal_length, dtype: float64"
      ]
     },
     "execution_count": 172,
     "metadata": {},
     "output_type": "execute_result"
    }
   ],
   "source": [
    "iris_species_agg = iris.groupby(\"species\")[\"petal_length\"].agg(\"mean\",\"min\",\"max\")\n",
    "iris_species_agg"
   ]
  },
  {
   "cell_type": "code",
   "execution_count": null,
   "id": "56f7f2e8-367d-4e1f-835c-b3e8b1ba5194",
   "metadata": {},
   "outputs": [],
   "source": []
  }
 ],
 "metadata": {
  "kernelspec": {
   "display_name": "Python 3 (ipykernel)",
   "language": "python",
   "name": "python3"
  },
  "language_info": {
   "codemirror_mode": {
    "name": "ipython",
    "version": 3
   },
   "file_extension": ".py",
   "mimetype": "text/x-python",
   "name": "python",
   "nbconvert_exporter": "python",
   "pygments_lexer": "ipython3",
   "version": "3.11.7"
  }
 },
 "nbformat": 4,
 "nbformat_minor": 5
}
